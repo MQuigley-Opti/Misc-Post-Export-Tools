{
 "cells": [
  {
   "cell_type": "code",
   "execution_count": 8,
   "metadata": {
    "collapsed": false
   },
   "outputs": [
    {
     "ename": "SyntaxError",
     "evalue": "invalid syntax (<ipython-input-8-795dba32a833>, line 1)",
     "output_type": "error",
     "traceback": [
      "\u001b[0;36m  File \u001b[0;32m\"<ipython-input-8-795dba32a833>\"\u001b[0;36m, line \u001b[0;32m1\u001b[0m\n\u001b[0;31m    coding: utf-8\u001b[0m\n\u001b[0m          ^\u001b[0m\n\u001b[0;31mSyntaxError\u001b[0m\u001b[0;31m:\u001b[0m invalid syntax\n"
     ]
    }
   ],
   "source": [
    "#coding: utf-8\n",
    "\n",
    "# In[23]:\n",
    "\n",
    "\n",
    "\"\"\"\n",
    "Created on Wed Jan 27 10:17:29 2016\n",
    "\n",
    "@author: Marcus\n",
    "\"\"\"\n",
    "\n",
    "import pandas as pd\n",
    "import numpy as np\n",
    "import matplotlib.pyplot as plt\n",
    "\n",
    "#Read from a local csv file\n",
    "df = pd.read_csv('C:\\Temp\\hello2.csv');\n",
    "\n",
    "#reindex the series using time data stamp \n",
    "df.index = pd.to_datetime(df.ix[:,0], format='%Y-%m-%d %H:%M:%S');\n",
    "\n",
    "#UTC to Eastern time conversion\n",
    "df = df.tz_localize('UTC')\n",
    "df = df.tz_convert('US/Eastern')\n",
    "\n",
    "#resample the dataframe to creat a new dataframe\n",
    "#Common Resample Options\n",
    "#D       calendar day frequency\n",
    "#W       weekly frequency\n",
    "#M       month end frequency\n",
    "#MS      month start frequency\n",
    "#Q       quarter end frequency\n",
    "#QS      quarter start frequency\n",
    "#A       year end frequency\n",
    "#AS      year start frequency\n",
    "#H       hourly frequency\n",
    "#T       minutely frequency\n",
    "#S       secondly frequency\n",
    "#L       milliseonds\n",
    "#U       microseconds\n",
    "#N       nanoseconds\n",
    "\n",
    "converted = df.resample('H').mean();\n",
    "\n",
    "print (converted); \n",
    "converted.to_csv('c:\\Temp\\output1.csv');"
   ]
  },
  {
   "cell_type": "code",
   "execution_count": null,
   "metadata": {
    "collapsed": true
   },
   "outputs": [],
   "source": []
  },
  {
   "cell_type": "code",
   "execution_count": null,
   "metadata": {
    "collapsed": true
   },
   "outputs": [],
   "source": []
  }
 ],
 "metadata": {
  "anaconda-cloud": {},
  "kernelspec": {
   "display_name": "Python [conda root]",
   "language": "python",
   "name": "conda-root-py"
  },
  "language_info": {
   "codemirror_mode": {
    "name": "ipython",
    "version": 3
   },
   "file_extension": ".py",
   "mimetype": "text/x-python",
   "name": "python",
   "nbconvert_exporter": "python",
   "pygments_lexer": "ipython3",
   "version": "3.5.2"
  }
 },
 "nbformat": 4,
 "nbformat_minor": 1
}
